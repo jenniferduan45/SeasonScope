{
 "cells": [
  {
   "cell_type": "code",
   "execution_count": 2,
   "metadata": {
    "colab": {
     "base_uri": "https://localhost:8080/"
    },
    "executionInfo": {
     "elapsed": 24943,
     "status": "ok",
     "timestamp": 1701211087876,
     "user": {
      "displayName": "Haowen Xu",
      "userId": "01791914750429001903"
     },
     "user_tz": 300
    },
    "id": "wgwzfah12qHC",
    "outputId": "25043c92-1621-480b-c410-079bf92cdc26"
   },
   "outputs": [
    {
     "name": "stdout",
     "output_type": "stream",
     "text": [
      "Mounted at /content/drive\n"
     ]
    }
   ],
   "source": [
    "from google.colab import drive\n",
    "drive.mount('/content/drive')"
   ]
  },
  {
   "cell_type": "code",
   "execution_count": 1,
   "metadata": {
    "executionInfo": {
     "elapsed": 459,
     "status": "ok",
     "timestamp": 1701214798170,
     "user": {
      "displayName": "Haowen Xu",
      "userId": "01791914750429001903"
     },
     "user_tz": 300
    },
    "id": "taq9sX70SqqA"
   },
   "outputs": [],
   "source": [
    "import requests\n",
    "import os\n",
    "import time\n",
    "from urllib.request import urlretrieve\n",
    "import zipfile\n",
    "import json\n",
    "\n",
    "# Constants\n",
    "CLIENT_ID = \"\"  # Replace with your actual key\n",
    "SEASON = \"fall\"\n",
    "IMAGE_COUNT = {\"train\": 10000, \"validation\": 2500, \"test\": 2500}\n",
    "PER_PAGE = 10  # Number of images per page\n",
    "SECONDS_BETWEEN_REQUESTS = 1.2  # Throttle requests to avoid hitting rate limit too quickly\n",
    "BASE_PATH = \"/content/project\"  # Base directory for saving images\n",
    "PROGRESS_FILE = \"/content/download_progress.json\"  # File to track download progress"
   ]
  },
  {
   "cell_type": "code",
   "execution_count": 4,
   "metadata": {
    "executionInfo": {
     "elapsed": 5,
     "status": "ok",
     "timestamp": 1701214979932,
     "user": {
      "displayName": "Haowen Xu",
      "userId": "01791914750429001903"
     },
     "user_tz": 300
    },
    "id": "cVmFz1ABSD2l"
   },
   "outputs": [],
   "source": [
    "# Function to fetch images from Unsplash\n",
    "def get_unsplash_photos(keyword, client_id, page, per_page=PER_PAGE):\n",
    "    url = \"https://api.unsplash.com/search/photos\"\n",
    "    params = {\"query\": keyword, \"client_id\": client_id, \"per_page\": per_page, \"page\": page}\n",
    "    response = requests.get(url, params=params)\n",
    "    if response.status_code == 200:\n",
    "        return [photo['urls']['regular'] for photo in response.json()['results']]\n",
    "\n",
    "    else:\n",
    "        print(f\"Failed to fetch photos for {keyword}, page {page}: {response.status_code}\")\n",
    "        return []\n",
    "# Function to download and save images with custom filenames\n",
    "def download_and_save_images(image_urls, folder_path, image_name, start_index):\n",
    "    if not os.path.exists(folder_path):\n",
    "        os.makedirs(folder_path)\n",
    "    for i, url in enumerate(image_urls, start=start_index):\n",
    "        filename = f\"{folder_path}/{image_name}_{i}.jpg\"\n",
    "        urlretrieve(url, filename)\n",
    "\n",
    "# Function to download images for a season and dataset part\n",
    "def download_season_images(season, part, target_count, progress):\n",
    "    folder_name = os.path.join(BASE_PATH, season, part)\n",
    "    current_page = progress.get(season, {}).get(part, 1)\n",
    "    downloaded_count = (current_page - 1) * PER_PAGE\n",
    "\n",
    "    while downloaded_count < target_count:\n",
    "        image_urls = get_unsplash_photos(season, CLIENT_ID, current_page)\n",
    "        if len(image_urls) != []:\n",
    "          print(f\"Successfully downloaded photo {downloaded_count} on page {current_page}\")\n",
    "        download_and_save_images(image_urls, folder_name, season.capitalize(), downloaded_count)\n",
    "        downloaded_count += len(image_urls)\n",
    "        current_page += 1\n",
    "        save_progress(season, part, current_page)\n",
    "        if downloaded_count < target_count:\n",
    "            time.sleep(SECONDS_BETWEEN_REQUESTS)  # Throttle requests\n",
    "\n",
    "# Function to save progress to a file\n",
    "def save_progress(season, part, page):\n",
    "    if os.path.exists(PROGRESS_FILE):\n",
    "        with open(PROGRESS_FILE, 'r') as file:\n",
    "            progress = json.load(file)\n",
    "    else:\n",
    "        progress = {}\n",
    "\n",
    "    if season not in progress:\n",
    "        progress[season] = {}\n",
    "    progress[season][part] = page\n",
    "\n",
    "    with open(PROGRESS_FILE, 'w') as file:\n",
    "        json.dump(progress, file)\n",
    "\n",
    "# Function to load progress from a file\n",
    "def load_progress():\n",
    "    if os.path.exists(PROGRESS_FILE):\n",
    "        with open(PROGRESS_FILE, 'r') as file:\n",
    "            return json.load(file)\n",
    "    return {}\n",
    "\n",
    "# Function to zip the folders\n",
    "def zip_folders():\n",
    "    with zipfile.ZipFile('/content/project.zip', 'w', zipfile.ZIP_DEFLATED) as zipf:\n",
    "        for root, dirs, files in os.walk(BASE_PATH):\n",
    "            for file in files:\n",
    "                zipf.write(os.path.join(root, file), os.path.relpath(os.path.join(root, file), BASE_PATH))"
   ]
  },
  {
   "cell_type": "code",
   "execution_count": null,
   "metadata": {
    "colab": {
     "base_uri": "https://localhost:8080/",
     "height": 1000
    },
    "executionInfo": {
     "elapsed": 155109,
     "status": "error",
     "timestamp": 1701215137273,
     "user": {
      "displayName": "Haowen Xu",
      "userId": "01791914750429001903"
     },
     "user_tz": 300
    },
    "id": "KE_H2mFR1LdZ",
    "outputId": "06816b5d-1f8d-4dc3-8e2e-dbf206ae6338"
   },
   "outputs": [],
   "source": [
    "# Main download loop with progress tracking\n",
    "progress = load_progress()\n",
    "for part, count in IMAGE_COUNT.items():\n",
    "    download_season_images(SEASON, part, count, progress)\n",
    "\n",
    "zip_folders()\n",
    "print(\"Zipping complete. Download '/content/project.zip'\")"
   ]
  },
  {
   "cell_type": "code",
   "execution_count": null,
   "metadata": {
    "colab": {
     "base_uri": "https://localhost:8080/",
     "height": 415
    },
    "executionInfo": {
     "elapsed": 87236,
     "status": "error",
     "timestamp": 1701211200616,
     "user": {
      "displayName": "Haowen Xu",
      "userId": "01791914750429001903"
     },
     "user_tz": 300
    },
    "id": "B6_Ats3dZvdj",
    "outputId": "2b446055-af23-4b34-9d91-f2aefa30312a"
   },
   "outputs": [],
   "source": [
    "# Main download loop with progress tracking\n",
    "progress = load_progress()\n",
    "for part, count in IMAGE_COUNT.items():\n",
    "    if part != 'train':  # Skip the training data\n",
    "        download_season_images(SEASON, part, count, progress)\n",
    "\n",
    "zip_folders()\n",
    "print(\"Zipping complete. Download '/content/project.zip'\")"
   ]
  }
 ],
 "metadata": {
  "colab": {
   "provenance": []
  },
  "kernelspec": {
   "display_name": "Python 3 (ipykernel)",
   "language": "python",
   "name": "python3"
  },
  "language_info": {
   "codemirror_mode": {
    "name": "ipython",
    "version": 3
   },
   "file_extension": ".py",
   "mimetype": "text/x-python",
   "name": "python",
   "nbconvert_exporter": "python",
   "pygments_lexer": "ipython3",
   "version": "3.10.2"
  }
 },
 "nbformat": 4,
 "nbformat_minor": 0
}
